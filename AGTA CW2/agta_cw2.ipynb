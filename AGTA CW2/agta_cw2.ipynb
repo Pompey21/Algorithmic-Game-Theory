{
  "nbformat": 4,
  "nbformat_minor": 0,
  "metadata": {
    "colab": {
      "name": "agta_cw2.ipynb",
      "provenance": [],
      "collapsed_sections": []
    },
    "kernelspec": {
      "name": "python3",
      "display_name": "Python 3"
    },
    "language_info": {
      "name": "python"
    }
  },
  "cells": [
    {
      "cell_type": "code",
      "execution_count": null,
      "metadata": {
        "id": "FB6CmEz47tXp"
      },
      "outputs": [],
      "source": [
        "T1_dict = {\n",
        "    's' : 16,\n",
        "    'l' : 4,\n",
        "    'b' : 10\n",
        "}\n",
        "\n",
        "T2_dict = {\n",
        "    's' : 16,\n",
        "    'l' : 7,\n",
        "    'b' : 18\n",
        "}\n",
        "\n",
        "T3_dict = {\n",
        "    's' : 13,\n",
        "    'l' : 12,\n",
        "    'b' : 4\n",
        "}\n",
        "\n"
      ]
    },
    {
      "cell_type": "code",
      "source": [
        "def make_triples():\n",
        "  res = []\n",
        "\n",
        "  for t1 in \"slb\":\n",
        "    for t2 in \"slb\":\n",
        "      for t3 in \"slb\":\n",
        "        res.append((t1, t2, t3))\n",
        "\n",
        "  return res\n",
        "\n",
        "triples = make_triples()\n",
        "print(triples)"
      ],
      "metadata": {
        "colab": {
          "base_uri": "https://localhost:8080/"
        },
        "id": "5pwGXjsbFb3S",
        "outputId": "718823d7-0b94-4af9-f563-0d1957ed8aba"
      },
      "execution_count": null,
      "outputs": [
        {
          "output_type": "stream",
          "name": "stdout",
          "text": [
            "[('s', 's', 's'), ('s', 's', 'l'), ('s', 's', 'b'), ('s', 'l', 's'), ('s', 'l', 'l'), ('s', 'l', 'b'), ('s', 'b', 's'), ('s', 'b', 'l'), ('s', 'b', 'b'), ('l', 's', 's'), ('l', 's', 'l'), ('l', 's', 'b'), ('l', 'l', 's'), ('l', 'l', 'l'), ('l', 'l', 'b'), ('l', 'b', 's'), ('l', 'b', 'l'), ('l', 'b', 'b'), ('b', 's', 's'), ('b', 's', 'l'), ('b', 's', 'b'), ('b', 'l', 's'), ('b', 'l', 'l'), ('b', 'l', 'b'), ('b', 'b', 's'), ('b', 'b', 'l'), ('b', 'b', 'b')]\n"
          ]
        }
      ]
    },
    {
      "cell_type": "code",
      "source": [
        "def tripple_2_sets(lst):\n",
        "  s = []\n",
        "  l = []\n",
        "  b = []\n",
        "  if lst[0] == 's':\n",
        "    s.append('T1')\n",
        "  elif lst[0] == 'l':\n",
        "    l.append('T1')\n",
        "  elif lst[0] == 'b':\n",
        "    b.append('T1')\n",
        "\n",
        "  if lst[1] == 's':\n",
        "    s.append('T2')\n",
        "  elif lst[1] == 'l':\n",
        "    l.append('T2')\n",
        "  elif lst[1] == 'b':\n",
        "    b.append('T2')\n",
        "\n",
        "  if lst[2] == 's':\n",
        "    s.append('T3')\n",
        "  elif lst[2] == 'l':\n",
        "    l.append('T3')\n",
        "  elif lst[2] == 'b':\n",
        "    b.append('T3')\n",
        "\n",
        "  s = tuple(s)\n",
        "  l = tuple(l)\n",
        "  b = tuple(b)\n",
        "\n",
        "  return [('s',s),('l',l),('b',b)]\n",
        "\n",
        "\n",
        "result = tripple_2_sets(['s','l','s'])\n",
        "print(result)\n",
        "\n",
        "combinations = [tripple_2_sets(combo) for combo in triples]\n",
        "print(combinations)"
      ],
      "metadata": {
        "colab": {
          "base_uri": "https://localhost:8080/"
        },
        "id": "ITwKoE6M9B1j",
        "outputId": "a86669c7-9e75-43c7-a170-1c4a2eef50b9"
      },
      "execution_count": null,
      "outputs": [
        {
          "output_type": "stream",
          "name": "stdout",
          "text": [
            "[('s', ('T1', 'T3')), ('l', ('T2',)), ('b', ())]\n",
            "[[('s', ('T1', 'T2', 'T3')), ('l', ()), ('b', ())], [('s', ('T1', 'T2')), ('l', ('T3',)), ('b', ())], [('s', ('T1', 'T2')), ('l', ()), ('b', ('T3',))], [('s', ('T1', 'T3')), ('l', ('T2',)), ('b', ())], [('s', ('T1',)), ('l', ('T2', 'T3')), ('b', ())], [('s', ('T1',)), ('l', ('T2',)), ('b', ('T3',))], [('s', ('T1', 'T3')), ('l', ()), ('b', ('T2',))], [('s', ('T1',)), ('l', ('T3',)), ('b', ('T2',))], [('s', ('T1',)), ('l', ()), ('b', ('T2', 'T3'))], [('s', ('T2', 'T3')), ('l', ('T1',)), ('b', ())], [('s', ('T2',)), ('l', ('T1', 'T3')), ('b', ())], [('s', ('T2',)), ('l', ('T1',)), ('b', ('T3',))], [('s', ('T3',)), ('l', ('T1', 'T2')), ('b', ())], [('s', ()), ('l', ('T1', 'T2', 'T3')), ('b', ())], [('s', ()), ('l', ('T1', 'T2')), ('b', ('T3',))], [('s', ('T3',)), ('l', ('T1',)), ('b', ('T2',))], [('s', ()), ('l', ('T1', 'T3')), ('b', ('T2',))], [('s', ()), ('l', ('T1',)), ('b', ('T2', 'T3'))], [('s', ('T2', 'T3')), ('l', ()), ('b', ('T1',))], [('s', ('T2',)), ('l', ('T3',)), ('b', ('T1',))], [('s', ('T2',)), ('l', ()), ('b', ('T1', 'T3'))], [('s', ('T3',)), ('l', ('T2',)), ('b', ('T1',))], [('s', ()), ('l', ('T2', 'T3')), ('b', ('T1',))], [('s', ()), ('l', ('T2',)), ('b', ('T1', 'T3'))], [('s', ('T3',)), ('l', ()), ('b', ('T1', 'T2'))], [('s', ()), ('l', ('T3',)), ('b', ('T1', 'T2'))], [('s', ()), ('l', ()), ('b', ('T1', 'T2', 'T3'))]]\n"
          ]
        }
      ]
    },
    {
      "cell_type": "code",
      "source": [
        "big_dict = {\n",
        "    # zero cases\n",
        "    ('s', ()) : 0,\n",
        "    ('l', ()) : 0,\n",
        "    ('b', ()) : 0,\n",
        "    # T1\n",
        "    ('s', ('T1',)) : 16,\n",
        "    ('l', ('T1',)) : 4,\n",
        "    ('b', ('T1',)) : 10,\n",
        "    # T2\n",
        "    ('s', ('T2',)) : 16,\n",
        "    ('l', ('T2',)) : 7,\n",
        "    ('b', ('T2',)) : 18,\n",
        "    # T3\n",
        "    ('s', ('T3',)) : 13,\n",
        "    ('l', ('T3',)) : 12,\n",
        "    ('b', ('T3',)) : 4,\n",
        "    # T1 & T2\n",
        "    ('s', ('T1', 'T2')) : 29,\n",
        "    ('l', ('T1', 'T2')) : 38,\n",
        "    ('b', ('T1', 'T2')) : 26,\n",
        "    # T1 & T3\n",
        "    ('s', ('T1', 'T3')) : 36,\n",
        "    ('l', ('T1', 'T3')) : 37,\n",
        "    ('b', ('T1', 'T3')) : 28,\n",
        "    # T2 & T3\n",
        "    ('s', ('T2', 'T3')) : 29,\n",
        "    ('l', ('T2', 'T3')) : 37,\n",
        "    ('b', ('T2', 'T3')) : 39,  \n",
        "    # T1 & T2 & T3\n",
        "    ('s', ('T1','T2','T3')) : 54,\n",
        "    ('l', ('T1','T2','T3')) : 53,\n",
        "    ('b', ('T1','T2','T3')) : 54\n",
        "    \n",
        "}"
      ],
      "metadata": {
        "id": "IQAB6X5LBLf5"
      },
      "execution_count": null,
      "outputs": []
    },
    {
      "cell_type": "code",
      "source": [
        "def get_combination_value(combination):\n",
        "    s, l, b = combination\n",
        "\n",
        "\n",
        "    res1 = big_dict.get(combination[0])\n",
        "    res2 = big_dict.get(combination[1])\n",
        "    res3 = big_dict.get(combination[2])\n",
        "    sum_res = res1+res2+res3\n",
        "    return sum_res\n",
        "\n",
        "\n",
        "test_combo = [('s', ('T1', 'T2', 'T3')), ('l', ()), ('b', ())]\n",
        "sum_res = get_combination_value(test_combo)\n",
        "print(sum_res)"
      ],
      "metadata": {
        "colab": {
          "base_uri": "https://localhost:8080/"
        },
        "id": "1SUBCAnoE2NR",
        "outputId": "eee4b436-fdd5-4f15-ffde-a4832f37bddf"
      },
      "execution_count": null,
      "outputs": [
        {
          "output_type": "stream",
          "name": "stdout",
          "text": [
            "54\n"
          ]
        }
      ]
    },
    {
      "cell_type": "code",
      "source": [
        "combinations_vals = [(combination,get_combination_value(combination)) for combination in combinations]\n",
        "max(combinations_vals, key=(lambda x: x[1]))"
      ],
      "metadata": {
        "colab": {
          "base_uri": "https://localhost:8080/"
        },
        "id": "hXAPtp4XIDHT",
        "outputId": "321aa9c2-8481-4ce3-d037-84147a66faec"
      },
      "execution_count": null,
      "outputs": [
        {
          "output_type": "execute_result",
          "data": {
            "text/plain": [
              "([('s', ('T1',)), ('l', ()), ('b', ('T2', 'T3'))], 55)"
            ]
          },
          "metadata": {},
          "execution_count": 7
        }
      ]
    },
    {
      "cell_type": "code",
      "source": [
        "def get_combination_value_without(combination, bidder):\n",
        "    s, l, b = combination\n",
        "\n",
        "\n",
        "    res1 = big_dict.get(s) if bidder != \"s\" else 0\n",
        "    res2 = big_dict.get(l) if bidder != \"l\" else 0\n",
        "    res3 = big_dict.get(b) if bidder != \"b\" else 0\n",
        "    sum_res = res1+res2+res3\n",
        "    return sum_res"
      ],
      "metadata": {
        "id": "9vdbvLc1INmd"
      },
      "execution_count": null,
      "outputs": []
    },
    {
      "cell_type": "code",
      "source": [
        "combinations_vals_without_s = [(combination,get_combination_value_without(combination, \"s\")) for combination in combinations]\n",
        "combinations_vals_without_s"
      ],
      "metadata": {
        "colab": {
          "base_uri": "https://localhost:8080/"
        },
        "id": "sxLrM79gNJZg",
        "outputId": "c6b31c2e-cb80-4a3e-b928-164aef1e7db6"
      },
      "execution_count": null,
      "outputs": [
        {
          "output_type": "execute_result",
          "data": {
            "text/plain": [
              "[([('s', ('T1', 'T2', 'T3')), ('l', ()), ('b', ())], 0),\n",
              " ([('s', ('T1', 'T2')), ('l', ('T3',)), ('b', ())], 12),\n",
              " ([('s', ('T1', 'T2')), ('l', ()), ('b', ('T3',))], 4),\n",
              " ([('s', ('T1', 'T3')), ('l', ('T2',)), ('b', ())], 7),\n",
              " ([('s', ('T1',)), ('l', ('T2', 'T3')), ('b', ())], 37),\n",
              " ([('s', ('T1',)), ('l', ('T2',)), ('b', ('T3',))], 11),\n",
              " ([('s', ('T1', 'T3')), ('l', ()), ('b', ('T2',))], 18),\n",
              " ([('s', ('T1',)), ('l', ('T3',)), ('b', ('T2',))], 30),\n",
              " ([('s', ('T1',)), ('l', ()), ('b', ('T2', 'T3'))], 39),\n",
              " ([('s', ('T2', 'T3')), ('l', ('T1',)), ('b', ())], 4),\n",
              " ([('s', ('T2',)), ('l', ('T1', 'T3')), ('b', ())], 37),\n",
              " ([('s', ('T2',)), ('l', ('T1',)), ('b', ('T3',))], 8),\n",
              " ([('s', ('T3',)), ('l', ('T1', 'T2')), ('b', ())], 38),\n",
              " ([('s', ()), ('l', ('T1', 'T2', 'T3')), ('b', ())], 53),\n",
              " ([('s', ()), ('l', ('T1', 'T2')), ('b', ('T3',))], 42),\n",
              " ([('s', ('T3',)), ('l', ('T1',)), ('b', ('T2',))], 22),\n",
              " ([('s', ()), ('l', ('T1', 'T3')), ('b', ('T2',))], 55),\n",
              " ([('s', ()), ('l', ('T1',)), ('b', ('T2', 'T3'))], 43),\n",
              " ([('s', ('T2', 'T3')), ('l', ()), ('b', ('T1',))], 10),\n",
              " ([('s', ('T2',)), ('l', ('T3',)), ('b', ('T1',))], 22),\n",
              " ([('s', ('T2',)), ('l', ()), ('b', ('T1', 'T3'))], 28),\n",
              " ([('s', ('T3',)), ('l', ('T2',)), ('b', ('T1',))], 17),\n",
              " ([('s', ()), ('l', ('T2', 'T3')), ('b', ('T1',))], 47),\n",
              " ([('s', ()), ('l', ('T2',)), ('b', ('T1', 'T3'))], 35),\n",
              " ([('s', ('T3',)), ('l', ()), ('b', ('T1', 'T2'))], 26),\n",
              " ([('s', ()), ('l', ('T3',)), ('b', ('T1', 'T2'))], 38),\n",
              " ([('s', ()), ('l', ()), ('b', ('T1', 'T2', 'T3'))], 54)]"
            ]
          },
          "metadata": {},
          "execution_count": 9
        }
      ]
    },
    {
      "cell_type": "code",
      "source": [
        "combinations_vals_without_l = [(combination,get_combination_value_without(combination, \"l\")) for combination in combinations]\n",
        "combinations_vals_without_l"
      ],
      "metadata": {
        "colab": {
          "base_uri": "https://localhost:8080/"
        },
        "id": "rO4t7coRNNOG",
        "outputId": "1d4fc538-0768-471c-dd62-589fde572149"
      },
      "execution_count": null,
      "outputs": [
        {
          "output_type": "execute_result",
          "data": {
            "text/plain": [
              "[([('s', ('T1', 'T2', 'T3')), ('l', ()), ('b', ())], 54),\n",
              " ([('s', ('T1', 'T2')), ('l', ('T3',)), ('b', ())], 29),\n",
              " ([('s', ('T1', 'T2')), ('l', ()), ('b', ('T3',))], 33),\n",
              " ([('s', ('T1', 'T3')), ('l', ('T2',)), ('b', ())], 36),\n",
              " ([('s', ('T1',)), ('l', ('T2', 'T3')), ('b', ())], 16),\n",
              " ([('s', ('T1',)), ('l', ('T2',)), ('b', ('T3',))], 20),\n",
              " ([('s', ('T1', 'T3')), ('l', ()), ('b', ('T2',))], 54),\n",
              " ([('s', ('T1',)), ('l', ('T3',)), ('b', ('T2',))], 34),\n",
              " ([('s', ('T1',)), ('l', ()), ('b', ('T2', 'T3'))], 55),\n",
              " ([('s', ('T2', 'T3')), ('l', ('T1',)), ('b', ())], 29),\n",
              " ([('s', ('T2',)), ('l', ('T1', 'T3')), ('b', ())], 16),\n",
              " ([('s', ('T2',)), ('l', ('T1',)), ('b', ('T3',))], 20),\n",
              " ([('s', ('T3',)), ('l', ('T1', 'T2')), ('b', ())], 13),\n",
              " ([('s', ()), ('l', ('T1', 'T2', 'T3')), ('b', ())], 0),\n",
              " ([('s', ()), ('l', ('T1', 'T2')), ('b', ('T3',))], 4),\n",
              " ([('s', ('T3',)), ('l', ('T1',)), ('b', ('T2',))], 31),\n",
              " ([('s', ()), ('l', ('T1', 'T3')), ('b', ('T2',))], 18),\n",
              " ([('s', ()), ('l', ('T1',)), ('b', ('T2', 'T3'))], 39),\n",
              " ([('s', ('T2', 'T3')), ('l', ()), ('b', ('T1',))], 39),\n",
              " ([('s', ('T2',)), ('l', ('T3',)), ('b', ('T1',))], 26),\n",
              " ([('s', ('T2',)), ('l', ()), ('b', ('T1', 'T3'))], 44),\n",
              " ([('s', ('T3',)), ('l', ('T2',)), ('b', ('T1',))], 23),\n",
              " ([('s', ()), ('l', ('T2', 'T3')), ('b', ('T1',))], 10),\n",
              " ([('s', ()), ('l', ('T2',)), ('b', ('T1', 'T3'))], 28),\n",
              " ([('s', ('T3',)), ('l', ()), ('b', ('T1', 'T2'))], 39),\n",
              " ([('s', ()), ('l', ('T3',)), ('b', ('T1', 'T2'))], 26),\n",
              " ([('s', ()), ('l', ()), ('b', ('T1', 'T2', 'T3'))], 54)]"
            ]
          },
          "metadata": {},
          "execution_count": 10
        }
      ]
    },
    {
      "cell_type": "code",
      "source": [
        "combinations_vals_without_b = [(combination,get_combination_value_without(combination, \"b\")) for combination in combinations]\n",
        "combinations_vals_without_b\n",
        "\n",
        "max(combinations_vals_without_b, key= lambda x: x[1])"
      ],
      "metadata": {
        "colab": {
          "base_uri": "https://localhost:8080/"
        },
        "id": "c9khrBEJPbZX",
        "outputId": "099f7917-3bf3-4efa-9628-67e2d285bfb6"
      },
      "execution_count": null,
      "outputs": [
        {
          "output_type": "execute_result",
          "data": {
            "text/plain": [
              "([('s', ('T1', 'T2', 'T3')), ('l', ()), ('b', ())], 54)"
            ]
          },
          "metadata": {},
          "execution_count": 11
        }
      ]
    },
    {
      "cell_type": "markdown",
      "source": [
        "# PART 2 - examples of different scenario"
      ],
      "metadata": {
        "id": "H7JkHp7pSFYD"
      }
    },
    {
      "cell_type": "code",
      "source": [
        "sorted(combinations_vals, key=(lambda x: x[1]))"
      ],
      "metadata": {
        "colab": {
          "base_uri": "https://localhost:8080/"
        },
        "id": "eDwxZGJ-P4hJ",
        "outputId": "4fcbef1e-1763-4eda-ba45-3ed2d31c79d7"
      },
      "execution_count": null,
      "outputs": [
        {
          "output_type": "execute_result",
          "data": {
            "text/plain": [
              "[([('s', ('T2',)), ('l', ('T1',)), ('b', ('T3',))], 24),\n",
              " ([('s', ('T1',)), ('l', ('T2',)), ('b', ('T3',))], 27),\n",
              " ([('s', ('T3',)), ('l', ('T2',)), ('b', ('T1',))], 30),\n",
              " ([('s', ('T1', 'T2')), ('l', ()), ('b', ('T3',))], 33),\n",
              " ([('s', ('T2', 'T3')), ('l', ('T1',)), ('b', ())], 33),\n",
              " ([('s', ('T3',)), ('l', ('T1',)), ('b', ('T2',))], 35),\n",
              " ([('s', ()), ('l', ('T2',)), ('b', ('T1', 'T3'))], 35),\n",
              " ([('s', ('T2',)), ('l', ('T3',)), ('b', ('T1',))], 38),\n",
              " ([('s', ()), ('l', ('T3',)), ('b', ('T1', 'T2'))], 38),\n",
              " ([('s', ('T2', 'T3')), ('l', ()), ('b', ('T1',))], 39),\n",
              " ([('s', ('T3',)), ('l', ()), ('b', ('T1', 'T2'))], 39),\n",
              " ([('s', ('T1', 'T2')), ('l', ('T3',)), ('b', ())], 41),\n",
              " ([('s', ()), ('l', ('T1', 'T2')), ('b', ('T3',))], 42),\n",
              " ([('s', ('T1', 'T3')), ('l', ('T2',)), ('b', ())], 43),\n",
              " ([('s', ()), ('l', ('T1',)), ('b', ('T2', 'T3'))], 43),\n",
              " ([('s', ('T2',)), ('l', ()), ('b', ('T1', 'T3'))], 44),\n",
              " ([('s', ('T1',)), ('l', ('T3',)), ('b', ('T2',))], 46),\n",
              " ([('s', ()), ('l', ('T2', 'T3')), ('b', ('T1',))], 47),\n",
              " ([('s', ('T3',)), ('l', ('T1', 'T2')), ('b', ())], 51),\n",
              " ([('s', ('T1',)), ('l', ('T2', 'T3')), ('b', ())], 53),\n",
              " ([('s', ('T2',)), ('l', ('T1', 'T3')), ('b', ())], 53),\n",
              " ([('s', ()), ('l', ('T1', 'T2', 'T3')), ('b', ())], 53),\n",
              " ([('s', ('T1', 'T2', 'T3')), ('l', ()), ('b', ())], 54),\n",
              " ([('s', ('T1', 'T3')), ('l', ()), ('b', ('T2',))], 54),\n",
              " ([('s', ()), ('l', ()), ('b', ('T1', 'T2', 'T3'))], 54),\n",
              " ([('s', ('T1',)), ('l', ()), ('b', ('T2', 'T3'))], 55),\n",
              " ([('s', ()), ('l', ('T1', 'T3')), ('b', ('T2',))], 55)]"
            ]
          },
          "metadata": {},
          "execution_count": 12
        }
      ]
    },
    {
      "cell_type": "code",
      "source": [
        ""
      ],
      "metadata": {
        "id": "ySYaDfC0Sxcu"
      },
      "execution_count": null,
      "outputs": []
    }
  ]
}